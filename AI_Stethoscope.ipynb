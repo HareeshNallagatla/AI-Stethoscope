{
  "cells": [
    {
      "cell_type": "markdown",
      "metadata": {
        "id": "K2madPFAGHb3"
      },
      "source": [
        "# Transfer Learning With YAMNet for Heart Sound Classification\n",
        "\n",
        "[YAMNet](https://tfhub.dev/google/yamnet/1) is a pre-trained deep neural network that can predict audio events from [521 classes](https://github.com/tensorflow/models/blob/master/research/audioset/yamnet/yamnet_class_map.csv), such as laughter, barking, or a siren.\n",
        "\n",
        " In this tutorial you will learn how to:\n",
        "\n",
        "- Load and use the YAMNet model for inference.\n",
        "- Build a new model using the YAMNet embeddings to classify heart sounds.\n",
        "- Evaluate and export your model.\n"
      ]
    },
    {
      "cell_type": "markdown",
      "metadata": {
        "id": "5Mdp2TpBh96Y"
      },
      "source": [
        "## Import TensorFlow and other libraries\n"
      ]
    },
    {
      "cell_type": "markdown",
      "metadata": {
        "id": "zCcKYqu_hvKe"
      },
      "source": [
        "Start by installing [TensorFlow I/O](https://www.tensorflow.org/io), which will make it easier for you to load audio files off disk."
      ]
    },
    {
      "cell_type": "code",
      "execution_count": null,
      "metadata": {
        "id": "urBpRWDHTHHU",
        "colab": {
          "base_uri": "https://localhost:8080/"
        },
        "outputId": "6f46148e-d59c-40a4-bd8c-c7f874eb330b"
      },
      "outputs": [
        {
          "output_type": "stream",
          "name": "stdout",
          "text": [
            "Requirement already satisfied: tensorflow==2.15.0 in /usr/local/lib/python3.11/dist-packages (2.15.0)\n",
            "Requirement already satisfied: tensorflow-io==0.36.0 in /usr/local/lib/python3.11/dist-packages (0.36.0)\n",
            "Requirement already satisfied: absl-py>=1.0.0 in /usr/local/lib/python3.11/dist-packages (from tensorflow==2.15.0) (1.4.0)\n",
            "Requirement already satisfied: astunparse>=1.6.0 in /usr/local/lib/python3.11/dist-packages (from tensorflow==2.15.0) (1.6.3)\n",
            "Requirement already satisfied: flatbuffers>=23.5.26 in /usr/local/lib/python3.11/dist-packages (from tensorflow==2.15.0) (25.2.10)\n",
            "Requirement already satisfied: gast!=0.5.0,!=0.5.1,!=0.5.2,>=0.2.1 in /usr/local/lib/python3.11/dist-packages (from tensorflow==2.15.0) (0.6.0)\n",
            "Requirement already satisfied: google-pasta>=0.1.1 in /usr/local/lib/python3.11/dist-packages (from tensorflow==2.15.0) (0.2.0)\n",
            "Requirement already satisfied: h5py>=2.9.0 in /usr/local/lib/python3.11/dist-packages (from tensorflow==2.15.0) (3.14.0)\n",
            "Requirement already satisfied: libclang>=13.0.0 in /usr/local/lib/python3.11/dist-packages (from tensorflow==2.15.0) (18.1.1)\n",
            "Requirement already satisfied: ml-dtypes~=0.2.0 in /usr/local/lib/python3.11/dist-packages (from tensorflow==2.15.0) (0.2.0)\n",
            "Requirement already satisfied: numpy<2.0.0,>=1.23.5 in /usr/local/lib/python3.11/dist-packages (from tensorflow==2.15.0) (1.26.4)\n",
            "Requirement already satisfied: opt-einsum>=2.3.2 in /usr/local/lib/python3.11/dist-packages (from tensorflow==2.15.0) (3.4.0)\n",
            "Requirement already satisfied: packaging in /usr/local/lib/python3.11/dist-packages (from tensorflow==2.15.0) (24.2)\n",
            "Requirement already satisfied: protobuf!=4.21.0,!=4.21.1,!=4.21.2,!=4.21.3,!=4.21.4,!=4.21.5,<5.0.0dev,>=3.20.3 in /usr/local/lib/python3.11/dist-packages (from tensorflow==2.15.0) (4.25.8)\n",
            "Requirement already satisfied: setuptools in /usr/local/lib/python3.11/dist-packages (from tensorflow==2.15.0) (75.2.0)\n",
            "Requirement already satisfied: six>=1.12.0 in /usr/local/lib/python3.11/dist-packages (from tensorflow==2.15.0) (1.17.0)\n",
            "Requirement already satisfied: termcolor>=1.1.0 in /usr/local/lib/python3.11/dist-packages (from tensorflow==2.15.0) (3.1.0)\n",
            "Requirement already satisfied: typing-extensions>=3.6.6 in /usr/local/lib/python3.11/dist-packages (from tensorflow==2.15.0) (4.14.0)\n",
            "Requirement already satisfied: wrapt<1.15,>=1.11.0 in /usr/local/lib/python3.11/dist-packages (from tensorflow==2.15.0) (1.14.1)\n",
            "Requirement already satisfied: tensorflow-io-gcs-filesystem>=0.23.1 in /usr/local/lib/python3.11/dist-packages (from tensorflow==2.15.0) (0.36.0)\n",
            "Requirement already satisfied: grpcio<2.0,>=1.24.3 in /usr/local/lib/python3.11/dist-packages (from tensorflow==2.15.0) (1.73.1)\n",
            "Requirement already satisfied: tensorboard<2.16,>=2.15 in /usr/local/lib/python3.11/dist-packages (from tensorflow==2.15.0) (2.15.2)\n",
            "Requirement already satisfied: tensorflow-estimator<2.16,>=2.15.0 in /usr/local/lib/python3.11/dist-packages (from tensorflow==2.15.0) (2.15.0)\n",
            "Requirement already satisfied: keras<2.16,>=2.15.0 in /usr/local/lib/python3.11/dist-packages (from tensorflow==2.15.0) (2.15.0)\n",
            "Requirement already satisfied: wheel<1.0,>=0.23.0 in /usr/local/lib/python3.11/dist-packages (from astunparse>=1.6.0->tensorflow==2.15.0) (0.45.1)\n",
            "Requirement already satisfied: google-auth<3,>=1.6.3 in /usr/local/lib/python3.11/dist-packages (from tensorboard<2.16,>=2.15->tensorflow==2.15.0) (2.38.0)\n",
            "Requirement already satisfied: google-auth-oauthlib<2,>=0.5 in /usr/local/lib/python3.11/dist-packages (from tensorboard<2.16,>=2.15->tensorflow==2.15.0) (1.2.2)\n",
            "Requirement already satisfied: markdown>=2.6.8 in /usr/local/lib/python3.11/dist-packages (from tensorboard<2.16,>=2.15->tensorflow==2.15.0) (3.8.2)\n",
            "Requirement already satisfied: requests<3,>=2.21.0 in /usr/local/lib/python3.11/dist-packages (from tensorboard<2.16,>=2.15->tensorflow==2.15.0) (2.32.3)\n",
            "Requirement already satisfied: tensorboard-data-server<0.8.0,>=0.7.0 in /usr/local/lib/python3.11/dist-packages (from tensorboard<2.16,>=2.15->tensorflow==2.15.0) (0.7.2)\n",
            "Requirement already satisfied: werkzeug>=1.0.1 in /usr/local/lib/python3.11/dist-packages (from tensorboard<2.16,>=2.15->tensorflow==2.15.0) (3.1.3)\n",
            "Requirement already satisfied: cachetools<6.0,>=2.0.0 in /usr/local/lib/python3.11/dist-packages (from google-auth<3,>=1.6.3->tensorboard<2.16,>=2.15->tensorflow==2.15.0) (5.5.2)\n",
            "Requirement already satisfied: pyasn1-modules>=0.2.1 in /usr/local/lib/python3.11/dist-packages (from google-auth<3,>=1.6.3->tensorboard<2.16,>=2.15->tensorflow==2.15.0) (0.4.2)\n",
            "Requirement already satisfied: rsa<5,>=3.1.4 in /usr/local/lib/python3.11/dist-packages (from google-auth<3,>=1.6.3->tensorboard<2.16,>=2.15->tensorflow==2.15.0) (4.9.1)\n",
            "Requirement already satisfied: requests-oauthlib>=0.7.0 in /usr/local/lib/python3.11/dist-packages (from google-auth-oauthlib<2,>=0.5->tensorboard<2.16,>=2.15->tensorflow==2.15.0) (2.0.0)\n",
            "Requirement already satisfied: charset-normalizer<4,>=2 in /usr/local/lib/python3.11/dist-packages (from requests<3,>=2.21.0->tensorboard<2.16,>=2.15->tensorflow==2.15.0) (3.4.2)\n",
            "Requirement already satisfied: idna<4,>=2.5 in /usr/local/lib/python3.11/dist-packages (from requests<3,>=2.21.0->tensorboard<2.16,>=2.15->tensorflow==2.15.0) (3.10)\n",
            "Requirement already satisfied: urllib3<3,>=1.21.1 in /usr/local/lib/python3.11/dist-packages (from requests<3,>=2.21.0->tensorboard<2.16,>=2.15->tensorflow==2.15.0) (2.4.0)\n",
            "Requirement already satisfied: certifi>=2017.4.17 in /usr/local/lib/python3.11/dist-packages (from requests<3,>=2.21.0->tensorboard<2.16,>=2.15->tensorflow==2.15.0) (2025.6.15)\n",
            "Requirement already satisfied: MarkupSafe>=2.1.1 in /usr/local/lib/python3.11/dist-packages (from werkzeug>=1.0.1->tensorboard<2.16,>=2.15->tensorflow==2.15.0) (3.0.2)\n",
            "Requirement already satisfied: pyasn1<0.7.0,>=0.6.1 in /usr/local/lib/python3.11/dist-packages (from pyasn1-modules>=0.2.1->google-auth<3,>=1.6.3->tensorboard<2.16,>=2.15->tensorflow==2.15.0) (0.6.1)\n",
            "Requirement already satisfied: oauthlib>=3.0.0 in /usr/local/lib/python3.11/dist-packages (from requests-oauthlib>=0.7.0->google-auth-oauthlib<2,>=0.5->tensorboard<2.16,>=2.15->tensorflow==2.15.0) (3.3.1)\n"
          ]
        }
      ],
      "source": [
        "# Use compatible versions of tensorflow and tensorflow_io\n",
        "!pip install tensorflow==2.15.0 tensorflow-io==0.36.0"
      ]
    },
    {
      "cell_type": "code",
      "execution_count": null,
      "metadata": {
        "id": "7l3nqdWVF-kC"
      },
      "outputs": [],
      "source": [
        "import os\n",
        "\n",
        "from IPython import display\n",
        "import matplotlib.pyplot as plt\n",
        "import numpy as np\n",
        "import pandas as pd\n",
        "\n",
        "import tensorflow as tf\n",
        "import tensorflow_hub as hub\n",
        "import tensorflow_io as tfio"
      ]
    },
    {
      "cell_type": "markdown",
      "metadata": {
        "id": "v9ZhybCnt_bM"
      },
      "source": [
        "## About YAMNet\n",
        "\n",
        "[YAMNet](https://github.com/tensorflow/models/tree/master/research/audioset/yamnet) is a pre-trained neural network that employs the [MobileNetV1](https://arxiv.org/abs/1704.04861) depthwise-separable convolution architecture. It can use an audio waveform as input and make independent predictions for each of the 521 audio events from the [AudioSet](http://g.co/audioset) corpus.\n",
        "\n",
        "Internally, the model extracts \"frames\" from the audio signal and processes batches of these frames. This version of the model uses frames that are 0.96 second long and extracts one frame every 0.48 seconds .\n",
        "\n",
        "The model accepts a 1-D float32 Tensor or NumPy array containing a waveform of arbitrary length, represented as single-channel (mono) 16 kHz samples in the range `[-1.0, +1.0]`. This tutorial contains code to help you convert WAV files into the supported format.\n",
        "\n",
        "The model returns 3 outputs, including the class scores, embeddings (which you will use for transfer learning), and the log mel [spectrogram](https://www.tensorflow.org/tutorials/audio/simple_audio#spectrogram). You can find more details [here](https://tfhub.dev/google/yamnet/1).\n",
        "\n",
        "One specific use of YAMNet is as a high-level feature extractor - the 1,024-dimensional embedding output. You will use the base (YAMNet) model's input features and feed them into your shallower model consisting of one hidden `tf.keras.layers.Dense` layer. Then, you will train the network on a small amount of data for audio classification _without_ requiring a lot of labeled data and training end-to-end. (This is similar to [transfer learning for image classification with TensorFlow Hub](https://www.tensorflow.org/tutorials/images/transfer_learning_with_hub) for more information.)\n",
        "\n",
        "First, you will test the model and see the results of classifying audio. You will then construct the data pre-processing pipeline.\n",
        "\n",
        "### Loading YAMNet from TensorFlow Hub\n",
        "\n",
        "You are going to use a pre-trained YAMNet from [Tensorflow Hub](https://tfhub.dev/) to extract the embeddings from the sound files.\n",
        "\n",
        "Loading a model from TensorFlow Hub is straightforward: choose the model, copy its URL, and use the `load` function.\n",
        "\n",
        "Note: to read the documentation of the model, use the model URL in your browser."
      ]
    },
    {
      "cell_type": "code",
      "execution_count": null,
      "metadata": {
        "id": "06CWkBV5v3gr"
      },
      "outputs": [],
      "source": [
        "yamnet_model_handle = 'https://tfhub.dev/google/yamnet/1'\n",
        "yamnet_model = hub.load(yamnet_model_handle)"
      ]
    },
    {
      "cell_type": "code",
      "execution_count": null,
      "metadata": {
        "id": "o-p1mli4F6WD",
        "colab": {
          "base_uri": "https://localhost:8080/"
        },
        "outputId": "71ee59df-40ac-4c79-cbdb-cbb3c9b6f2a6"
      },
      "outputs": [
        {
          "output_type": "stream",
          "name": "stdout",
          "text": [
            "Downloading data from https://github.com/ShebinJoseJacob/test/raw/main/Data.zip\n",
            "27515302/27515302 [==============================] - 0s 0us/step\n"
          ]
        }
      ],
      "source": [
        "_ = tf.keras.utils.get_file('esc-50.zip',\n",
        "                        'https://github.com/ShebinJoseJacob/test/raw/main/Data.zip',\n",
        "                        cache_dir='./',\n",
        "                        cache_subdir='datasets',\n",
        "                        extract=True)"
      ]
    },
    {
      "cell_type": "markdown",
      "metadata": {
        "id": "GmrPJ0GHw9rr"
      },
      "source": [
        "With the model loaded, you can follow the [YAMNet basic usage tutorial](https://www.tensorflow.org/hub/tutorials/yamnet) and download a sample WAV file to run the inference.\n"
      ]
    },
    {
      "cell_type": "code",
      "execution_count": null,
      "metadata": {
        "colab": {
          "base_uri": "https://localhost:8080/"
        },
        "id": "C5i6xktEq00P",
        "outputId": "93ba215f-4787-4fc9-91d5-87446b7f89a3"
      },
      "outputs": [
        {
          "output_type": "stream",
          "name": "stdout",
          "text": [
            "Downloading data from https://storage.googleapis.com/audioset/miaow_16k.wav\n",
            "215546/215546 [==============================] - 0s 0us/step\n",
            "./test_data/miaow_16k.wav\n"
          ]
        }
      ],
      "source": [
        "testing_wav_file_name = tf.keras.utils.get_file('miaow_16k.wav',\n",
        "                                                'https://storage.googleapis.com/audioset/miaow_16k.wav',\n",
        "                                                cache_dir='./',\n",
        "                                                cache_subdir='test_data')\n",
        "\n",
        "print(testing_wav_file_name)"
      ]
    },
    {
      "cell_type": "markdown",
      "metadata": {
        "id": "mBm9y9iV2U_-"
      },
      "source": [
        "You will need a function to load audio files, which will also be used later when working with the training data. (Learn more about reading audio files and their labels in [Simple audio recognition](https://www.tensorflow.org/tutorials/audio/simple_audio#reading_audio_files_and_their_labels).\n",
        "\n",
        "Note: The returned `wav_data` from `load_wav_16k_mono` is already normalized to values in the `[-1.0, 1.0]` range (for more information, go to [YAMNet's documentation on TF Hub](https://tfhub.dev/google/yamnet/1))."
      ]
    },
    {
      "cell_type": "code",
      "execution_count": null,
      "metadata": {
        "id": "Xwc9Wrdg2EtY"
      },
      "outputs": [],
      "source": [
        "# Utility functions for loading audio files and making sure the sample rate is correct.\n",
        "\n",
        "@tf.function\n",
        "def load_wav_16k_mono(filename):\n",
        "    \"\"\" Load a WAV file, convert it to a float tensor, resample to 16 kHz single-channel audio. \"\"\"\n",
        "    file_contents = tf.io.read_file(filename)\n",
        "    wav, sample_rate = tf.audio.decode_wav(\n",
        "          file_contents,\n",
        "          desired_channels=1)\n",
        "    wav = tf.squeeze(wav, axis=-1)\n",
        "    sample_rate = tf.cast(sample_rate, dtype=tf.int64)\n",
        "    wav = tfio.audio.resample(wav, rate_in=sample_rate, rate_out=16000)\n",
        "    return wav"
      ]
    },
    {
      "cell_type": "code",
      "execution_count": null,
      "metadata": {
        "colab": {
          "base_uri": "https://localhost:8080/",
          "height": 506
        },
        "id": "FRqpjkwB0Jjw",
        "outputId": "5c2b8940-e70e-4435-bffa-66a3e0622849"
      },
      "outputs": [
        {
          "output_type": "stream",
          "name": "stderr",
          "text": [
            "WARNING:tensorflow:Using a while_loop for converting IO>AudioResample cause there is no registered converter for this op.\n"
          ]
        },
        {
          "output_type": "execute_result",
          "data": {
            "text/plain": [
              "<IPython.lib.display.Audio object>"
            ],
            "text/html": [
              "\n",
              "                <audio  controls=\"controls\" >\n",
              "                    <source src=\"data:audio/wav;base64,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\" type=\"audio/wav\" />\n",
              "                    Your browser does not support the audio element.\n",
              "                </audio>\n",
              "              "
            ]
          },
          "metadata": {},
          "execution_count": 7
        },
        {
          "output_type": "display_data",
          "data": {
            "text/plain": [
              "<Figure size 640x480 with 1 Axes>"
            ],
            "image/png": "[encoded data removed]"
          },
          "metadata": {}
        }
      ],
      "source": [
        "testing_wav_data = load_wav_16k_mono('./datasets/Data/audio/New_MS_074.wav')\n",
        "\n",
        "_ = plt.plot(testing_wav_data)\n",
        "\n",
        "# Play the audio file.\n",
        "display.Audio(testing_wav_data, rate=16000)"
      ]
    },
    {
      "cell_type": "code",
      "source": [
        "from google.colab import drive\n",
        "drive.mount('/content/drive')"
      ],
      "metadata": {
        "colab": {
          "base_uri": "https://localhost:8080/"
        },
        "id": "YrACqE3p6p5E",
        "outputId": "ef2dd1a2-6018-4777-d8cc-fa07df42e44d"
      },
      "execution_count": null,
      "outputs": [
        {
          "output_type": "stream",
          "name": "stdout",
          "text": [
            "Mounted at /content/drive\n"
          ]
        }
      ]
    },
    {
      "cell_type": "markdown",
      "metadata": {
        "id": "6z6rqlEz20YB"
      },
      "source": [
        "### Load the class mapping\n",
        "\n",
        "It's important to load the class names that YAMNet is able to recognize. The mapping file is present at `yamnet_model.class_map_path()` in the CSV format."
      ]
    },
    {
      "cell_type": "code",
      "execution_count": null,
      "metadata": {
        "id": "6Gyj23e_3Mgr",
        "colab": {
          "base_uri": "https://localhost:8080/"
        },
        "outputId": "915cae7d-869d-4be3-cc29-929e1baa69a0"
      },
      "outputs": [
        {
          "output_type": "stream",
          "name": "stdout",
          "text": [
            "Speech\n",
            "Child speech, kid speaking\n",
            "Conversation\n",
            "Narration, monologue\n",
            "Babbling\n",
            "Speech synthesizer\n",
            "Shout\n",
            "Bellow\n",
            "Whoop\n",
            "Yell\n",
            "Children shouting\n",
            "Screaming\n",
            "Whispering\n",
            "Laughter\n",
            "Baby laughter\n",
            "Giggle\n",
            "Snicker\n",
            "Belly laugh\n",
            "Chuckle, chortle\n",
            "Crying, sobbing\n",
            "...\n"
          ]
        }
      ],
      "source": [
        "class_map_path = yamnet_model.class_map_path().numpy().decode('utf-8')\n",
        "class_names =list(pd.read_csv(class_map_path)['display_name'])\n",
        "\n",
        "for name in class_names[:20]:\n",
        "  print(name)\n",
        "print('...')"
      ]
    },
    {
      "cell_type": "markdown",
      "metadata": {
        "id": "5xbycDnT40u0"
      },
      "source": [
        "### Run inference\n",
        "\n",
        "YAMNet provides frame-level class-scores (i.e., 521 scores for every frame). In order to determine clip-level predictions, the scores can be aggregated per-class across frames (e.g., using mean or max aggregation). This is done below by `scores_np.mean(axis=0)`. Finally, to find the top-scored class at the clip-level, you take the maximum of the 521 aggregated scores.\n"
      ]
    },
    {
      "cell_type": "code",
      "execution_count": null,
      "metadata": {
        "id": "NT0otp-A4Y3u",
        "colab": {
          "base_uri": "https://localhost:8080/"
        },
        "outputId": "c74bff2b-66c2-420a-dcc8-a3950cea7300"
      },
      "outputs": [
        {
          "output_type": "stream",
          "name": "stdout",
          "text": [
            "The main sound is: Heart sounds, heartbeat\n",
            "The embeddings shape: (4, 1024)\n"
          ]
        }
      ],
      "source": [
        "scores, embeddings, spectrogram = yamnet_model(testing_wav_data)\n",
        "class_scores = tf.reduce_mean(scores, axis=0)\n",
        "top_class = tf.math.argmax(class_scores)\n",
        "inferred_class = class_names[top_class]\n",
        "\n",
        "print(f'The main sound is: {inferred_class}')\n",
        "print(f'The embeddings shape: {embeddings.shape}')"
      ]
    },
    {
      "cell_type": "markdown",
      "metadata": {
        "id": "YBaLNg5H5IWa"
      },
      "source": [
        "Note: The model correctly inferred an animal sound. Your goal in this tutorial is to increase the model's accuracy for specific classes. Also, notice that the model generated 13 embeddings, 1 per frame."
      ]
    },
    {
      "cell_type": "markdown",
      "metadata": {
        "id": "fmthELBg1A2-"
      },
      "source": [
        "## Heart Sound dataset\n",
        "\n",
        "The [dataset](https://github.com/Nekhil-haxh/Sign-Language-Translator) is a labeled collection of 1,000 five-second long environmental audio recordings. The dataset consists of 5 classes, with 200 examples per class.\n",
        "\n",
        "Download the dataset and extract it.\n"
      ]
    },
    {
      "cell_type": "code",
      "execution_count": null,
      "metadata": {
        "id": "MWobqK8JmZOU",
        "colab": {
          "base_uri": "https://localhost:8080/",
          "height": 53
        },
        "outputId": "c9c6bee9-5e44-4cf7-af5c-2cb23eabdcb7"
      },
      "outputs": [
        {
          "output_type": "execute_result",
          "data": {
            "text/plain": [
              "\"_ = tf.keras.utils.get_file('esc-50.zip',\\n                        'https://github.com/ShebinJoseJacob/test/raw/main/Data.zip',\\n                        cache_dir='./',\\n                        cache_subdir='datasets',\\n                        extract=True)\""
            ],
            "application/vnd.google.colaboratory.intrinsic+json": {
              "type": "string"
            }
          },
          "metadata": {},
          "execution_count": 11
        }
      ],
      "source": [
        "'''_ = tf.keras.utils.get_file('esc-50.zip',\n",
        "                        'https://github.com/ShebinJoseJacob/test/raw/main/Data.zip',\n",
        "                        cache_dir='./',\n",
        "                        cache_subdir='datasets',\n",
        "                        extract=True)'''"
      ]
    },
    {
      "cell_type": "markdown",
      "metadata": {
        "id": "qcruxiuX1cO5"
      },
      "source": [
        "### Explore the data\n",
        "\n",
        "The metadata for each file is specified in the csv file at `./datasets/Data/meta/esc50.csv`\n",
        "\n",
        "and all the audio files are in `./datasets/Data/audio/`\n",
        "\n",
        "You will create a pandas `DataFrame` with the mapping and use that to have a clearer view of the data.\n"
      ]
    },
    {
      "cell_type": "code",
      "execution_count": null,
      "metadata": {
        "id": "jwmLygPrMAbH",
        "colab": {
          "base_uri": "https://localhost:8080/",
          "height": 206
        },
        "outputId": "86827b3a-a071-48cd-e937-85a6d289d670"
      },
      "outputs": [
        {
          "output_type": "execute_result",
          "data": {
            "text/plain": [
              "        file name  fold  target foldername\n",
              "0  New_MS_074.wav     5       2         MS\n",
              "1  New_MS_122.wav     5       2         MS\n",
              "2  New_MS_024.wav     5       2         MS\n",
              "3  New_MS_002.wav     5       2         MS\n",
              "4  New_MS_114.wav     5       2         MS"
            ],
            "text/html": [
              "\n",
              "  <div id=\"df-50602f08-b07d-47f7-a44e-15cba7ab77b2\" class=\"colab-df-container\">\n",
              "    <div>\n",
              "<style scoped>\n",
              "    .dataframe tbody tr th:only-of-type {\n",
              "        vertical-align: middle;\n",
              "    }\n",
              "\n",
              "    .dataframe tbody tr th {\n",
              "        vertical-align: top;\n",
              "    }\n",
              "\n",
              "    .dataframe thead th {\n",
              "        text-align: right;\n",
              "    }\n",
              "</style>\n",
              "<table border=\"1\" class=\"dataframe\">\n",
              "  <thead>\n",
              "    <tr style=\"text-align: right;\">\n",
              "      <th></th>\n",
              "      <th>file name</th>\n",
              "      <th>fold</th>\n",
              "      <th>target</th>\n",
              "      <th>foldername</th>\n",
              "    </tr>\n",
              "  </thead>\n",
              "  <tbody>\n",
              "    <tr>\n",
              "      <th>0</th>\n",
              "      <td>New_MS_074.wav</td>\n",
              "      <td>5</td>\n",
              "      <td>2</td>\n",
              "      <td>MS</td>\n",
              "    </tr>\n",
              "    <tr>\n",
              "      <th>1</th>\n",
              "      <td>New_MS_122.wav</td>\n",
              "      <td>5</td>\n",
              "      <td>2</td>\n",
              "      <td>MS</td>\n",
              "    </tr>\n",
              "    <tr>\n",
              "      <th>2</th>\n",
              "      <td>New_MS_024.wav</td>\n",
              "      <td>5</td>\n",
              "      <td>2</td>\n",
              "      <td>MS</td>\n",
              "    </tr>\n",
              "    <tr>\n",
              "      <th>3</th>\n",
              "      <td>New_MS_002.wav</td>\n",
              "      <td>5</td>\n",
              "      <td>2</td>\n",
              "      <td>MS</td>\n",
              "    </tr>\n",
              "    <tr>\n",
              "      <th>4</th>\n",
              "      <td>New_MS_114.wav</td>\n",
              "      <td>5</td>\n",
              "      <td>2</td>\n",
              "      <td>MS</td>\n",
              "    </tr>\n",
              "  </tbody>\n",
              "</table>\n",
              "</div>\n",
              "    <div class=\"colab-df-buttons\">\n",
              "\n",
              "  <div class=\"colab-df-container\">\n",
              "    <button class=\"colab-df-convert\" onclick=\"convertToInteractive('df-50602f08-b07d-47f7-a44e-15cba7ab77b2')\"\n",
              "            title=\"Convert this dataframe to an interactive table.\"\n",
              "            style=\"display:none;\">\n",
              "\n",
              "  <svg xmlns=\"http://www.w3.org/2000/svg\" height=\"24px\" viewBox=\"0 -960 960 960\">\n",
              "    <path d=\"M120-120v-720h720v720H120Zm60-500h600v-160H180v160Zm220 220h160v-160H400v160Zm0 220h160v-160H400v160ZM180-400h160v-160H180v160Zm440 0h160v-160H620v160ZM180-180h160v-160H180v160Zm440 0h160v-160H620v160Z\"/>\n",
              "  </svg>\n",
              "    </button>\n",
              "\n",
              "  <style>\n",
              "    .colab-df-container {\n",
              "      display:flex;\n",
              "      gap: 12px;\n",
              "    }\n",
              "\n",
              "    .colab-df-convert {\n",
              "      background-color: #E8F0FE;\n",
              "      border: none;\n",
              "      border-radius: 50%;\n",
              "      cursor: pointer;\n",
              "      display: none;\n",
              "      fill: #1967D2;\n",
              "      height: 32px;\n",
              "      padding: 0 0 0 0;\n",
              "      width: 32px;\n",
              "    }\n",
              "\n",
              "    .colab-df-convert:hover {\n",
              "      background-color: #E2EBFA;\n",
              "      box-shadow: 0px 1px 2px rgba(60, 64, 67, 0.3), 0px 1px 3px 1px rgba(60, 64, 67, 0.15);\n",
              "      fill: #174EA6;\n",
              "    }\n",
              "\n",
              "    .colab-df-buttons div {\n",
              "      margin-bottom: 4px;\n",
              "    }\n",
              "\n",
              "    [theme=dark] .colab-df-convert {\n",
              "      background-color: #3B4455;\n",
              "      fill: #D2E3FC;\n",
              "    }\n",
              "\n",
              "    [theme=dark] .colab-df-convert:hover {\n",
              "      background-color: #434B5C;\n",
              "      box-shadow: 0px 1px 3px 1px rgba(0, 0, 0, 0.15);\n",
              "      filter: drop-shadow(0px 1px 2px rgba(0, 0, 0, 0.3));\n",
              "      fill: #FFFFFF;\n",
              "    }\n",
              "  </style>\n",
              "\n",
              "    <script>\n",
              "      const buttonEl =\n",
              "        document.querySelector('#df-50602f08-b07d-47f7-a44e-15cba7ab77b2 button.colab-df-convert');\n",
              "      buttonEl.style.display =\n",
              "        google.colab.kernel.accessAllowed ? 'block' : 'none';\n",
              "\n",
              "      async function convertToInteractive(key) {\n",
              "        const element = document.querySelector('#df-50602f08-b07d-47f7-a44e-15cba7ab77b2');\n",
              "        const dataTable =\n",
              "          await google.colab.kernel.invokeFunction('convertToInteractive',\n",
              "                                                    [key], {});\n",
              "        if (!dataTable) return;\n",
              "\n",
              "        const docLinkHtml = 'Like what you see? Visit the ' +\n",
              "          '<a target=\"_blank\" href=https://colab.research.google.com/notebooks/data_table.ipynb>data table notebook</a>'\n",
              "          + ' to learn more about interactive tables.';\n",
              "        element.innerHTML = '';\n",
              "        dataTable['output_type'] = 'display_data';\n",
              "        await google.colab.output.renderOutput(dataTable, element);\n",
              "        const docLink = document.createElement('div');\n",
              "        docLink.innerHTML = docLinkHtml;\n",
              "        element.appendChild(docLink);\n",
              "      }\n",
              "    </script>\n",
              "  </div>\n",
              "\n",
              "\n",
              "    <div id=\"df-179f1b42-5df9-4859-8a50-df895bd2a46b\">\n",
              "      <button class=\"colab-df-quickchart\" onclick=\"quickchart('df-179f1b42-5df9-4859-8a50-df895bd2a46b')\"\n",
              "                title=\"Suggest charts\"\n",
              "                style=\"display:none;\">\n",
              "\n",
              "<svg xmlns=\"http://www.w3.org/2000/svg\" height=\"24px\"viewBox=\"0 0 24 24\"\n",
              "     width=\"24px\">\n",
              "    <g>\n",
              "        <path d=\"M19 3H5c-1.1 0-2 .9-2 2v14c0 1.1.9 2 2 2h14c1.1 0 2-.9 2-2V5c0-1.1-.9-2-2-2zM9 17H7v-7h2v7zm4 0h-2V7h2v10zm4 0h-2v-4h2v4z\"/>\n",
              "    </g>\n",
              "</svg>\n",
              "      </button>\n",
              "\n",
              "<style>\n",
              "  .colab-df-quickchart {\n",
              "      --bg-color: #E8F0FE;\n",
              "      --fill-color: #1967D2;\n",
              "      --hover-bg-color: #E2EBFA;\n",
              "      --hover-fill-color: #174EA6;\n",
              "      --disabled-fill-color: #AAA;\n",
              "      --disabled-bg-color: #DDD;\n",
              "  }\n",
              "\n",
              "  [theme=dark] .colab-df-quickchart {\n",
              "      --bg-color: #3B4455;\n",
              "      --fill-color: #D2E3FC;\n",
              "      --hover-bg-color: #434B5C;\n",
              "      --hover-fill-color: #FFFFFF;\n",
              "      --disabled-bg-color: #3B4455;\n",
              "      --disabled-fill-color: #666;\n",
              "  }\n",
              "\n",
              "  .colab-df-quickchart {\n",
              "    background-color: var(--bg-color);\n",
              "    border: none;\n",
              "    border-radius: 50%;\n",
              "    cursor: pointer;\n",
              "    display: none;\n",
              "    fill: var(--fill-color);\n",
              "    height: 32px;\n",
              "    padding: 0;\n",
              "    width: 32px;\n",
              "  }\n",
              "\n",
              "  .colab-df-quickchart:hover {\n",
              "    background-color: var(--hover-bg-color);\n",
              "    box-shadow: 0 1px 2px rgba(60, 64, 67, 0.3), 0 1px 3px 1px rgba(60, 64, 67, 0.15);\n",
              "    fill: var(--button-hover-fill-color);\n",
              "  }\n",
              "\n",
              "  .colab-df-quickchart-complete:disabled,\n",
              "  .colab-df-quickchart-complete:disabled:hover {\n",
              "    background-color: var(--disabled-bg-color);\n",
              "    fill: var(--disabled-fill-color);\n",
              "    box-shadow: none;\n",
              "  }\n",
              "\n",
              "  .colab-df-spinner {\n",
              "    border: 2px solid var(--fill-color);\n",
              "    border-color: transparent;\n",
              "    border-bottom-color: var(--fill-color);\n",
              "    animation:\n",
              "      spin 1s steps(1) infinite;\n",
              "  }\n",
              "\n",
              "  @keyframes spin {\n",
              "    0% {\n",
              "      border-color: transparent;\n",
              "      border-bottom-color: var(--fill-color);\n",
              "      border-left-color: var(--fill-color);\n",
              "    }\n",
              "    20% {\n",
              "      border-color: transparent;\n",
              "      border-left-color: var(--fill-color);\n",
              "      border-top-color: var(--fill-color);\n",
              "    }\n",
              "    30% {\n",
              "      border-color: transparent;\n",
              "      border-left-color: var(--fill-color);\n",
              "      border-top-color: var(--fill-color);\n",
              "      border-right-color: var(--fill-color);\n",
              "    }\n",
              "    40% {\n",
              "      border-color: transparent;\n",
              "      border-right-color: var(--fill-color);\n",
              "      border-top-color: var(--fill-color);\n",
              "    }\n",
              "    60% {\n",
              "      border-color: transparent;\n",
              "      border-right-color: var(--fill-color);\n",
              "    }\n",
              "    80% {\n",
              "      border-color: transparent;\n",
              "      border-right-color: var(--fill-color);\n",
              "      border-bottom-color: var(--fill-color);\n",
              "    }\n",
              "    90% {\n",
              "      border-color: transparent;\n",
              "      border-bottom-color: var(--fill-color);\n",
              "    }\n",
              "  }\n",
              "</style>\n",
              "\n",
              "      <script>\n",
              "        async function quickchart(key) {\n",
              "          const quickchartButtonEl =\n",
              "            document.querySelector('#' + key + ' button');\n",
              "          quickchartButtonEl.disabled = true;  // To prevent multiple clicks.\n",
              "          quickchartButtonEl.classList.add('colab-df-spinner');\n",
              "          try {\n",
              "            const charts = await google.colab.kernel.invokeFunction(\n",
              "                'suggestCharts', [key], {});\n",
              "          } catch (error) {\n",
              "            console.error('Error during call to suggestCharts:', error);\n",
              "          }\n",
              "          quickchartButtonEl.classList.remove('colab-df-spinner');\n",
              "          quickchartButtonEl.classList.add('colab-df-quickchart-complete');\n",
              "        }\n",
              "        (() => {\n",
              "          let quickchartButtonEl =\n",
              "            document.querySelector('#df-179f1b42-5df9-4859-8a50-df895bd2a46b button');\n",
              "          quickchartButtonEl.style.display =\n",
              "            google.colab.kernel.accessAllowed ? 'block' : 'none';\n",
              "        })();\n",
              "      </script>\n",
              "    </div>\n",
              "\n",
              "    </div>\n",
              "  </div>\n"
            ],
            "application/vnd.google.colaboratory.intrinsic+json": {
              "type": "dataframe",
              "variable_name": "pd_data",
              "summary": "{\n  \"name\": \"pd_data\",\n  \"rows\": 1000,\n  \"fields\": [\n    {\n      \"column\": \"file name\",\n      \"properties\": {\n        \"dtype\": \"string\",\n        \"num_unique_values\": 1000,\n        \"samples\": [\n          \"New_MR_169.wav\",\n          \"New_N_056.wav\",\n          \"New_N_064.wav\"\n        ],\n        \"semantic_type\": \"\",\n        \"description\": \"\"\n      }\n    },\n    {\n      \"column\": \"fold\",\n      \"properties\": {\n        \"dtype\": \"number\",\n        \"std\": 1,\n        \"min\": 1,\n        \"max\": 5,\n        \"num_unique_values\": 3,\n        \"samples\": [\n          5,\n          4,\n          1\n        ],\n        \"semantic_type\": \"\",\n        \"description\": \"\"\n      }\n    },\n    {\n      \"column\": \"target\",\n      \"properties\": {\n        \"dtype\": \"number\",\n        \"std\": 1,\n        \"min\": 0,\n        \"max\": 4,\n        \"num_unique_values\": 5,\n        \"samples\": [\n          3,\n          0,\n          1\n        ],\n        \"semantic_type\": \"\",\n        \"description\": \"\"\n      }\n    },\n    {\n      \"column\": \"foldername\",\n      \"properties\": {\n        \"dtype\": \"category\",\n        \"num_unique_values\": 5,\n        \"samples\": [\n          \"MVP\",\n          \"AS\",\n          \"MR\"\n        ],\n        \"semantic_type\": \"\",\n        \"description\": \"\"\n      }\n    }\n  ]\n}"
            }
          },
          "metadata": {},
          "execution_count": 12
        }
      ],
      "source": [
        "esc50_csv = './datasets/Data/meta/metadata.csv'\n",
        "base_data_path = './datasets/Data/audio/'\n",
        "\n",
        "pd_data = pd.read_csv(esc50_csv)\n",
        "pd_data.head()"
      ]
    },
    {
      "cell_type": "markdown",
      "metadata": {
        "id": "7d4rHBEQ2QAU"
      },
      "source": [
        "### Filter the data\n",
        "\n",
        "Now that the data is stored in the `DataFrame`, apply some transformations:\n",
        "\n",
        "- Filter out rows and use only the selected classes\n",
        "- Amend the filename to have the full path. This will make loading easier later.\n",
        "- Change targets to be within a specific range."
      ]
    },
    {
      "cell_type": "code",
      "execution_count": null,
      "metadata": {
        "id": "tFnEoQjgs14I",
        "colab": {
          "base_uri": "https://localhost:8080/",
          "height": 423
        },
        "outputId": "62c7a4f9-67d0-4a8b-afd1-226e320a5232"
      },
      "outputs": [
        {
          "output_type": "execute_result",
          "data": {
            "text/plain": [
              "          file name  fold  target foldername  \\\n",
              "0    New_MS_074.wav     5       2         MS   \n",
              "1    New_MS_122.wav     5       2         MS   \n",
              "2    New_MS_024.wav     5       2         MS   \n",
              "3    New_MS_002.wav     5       2         MS   \n",
              "4    New_MS_114.wav     5       2         MS   \n",
              "..              ...   ...     ...        ...   \n",
              "995  New_AS_196.wav     1       0         AS   \n",
              "996  New_AS_152.wav     1       0         AS   \n",
              "997  New_AS_106.wav     1       0         AS   \n",
              "998  New_AS_161.wav     1       0         AS   \n",
              "999  New_AS_052.wav     1       0         AS   \n",
              "\n",
              "                                 filename  \n",
              "0    ./datasets/Data/audio/New_MS_074.wav  \n",
              "1    ./datasets/Data/audio/New_MS_122.wav  \n",
              "2    ./datasets/Data/audio/New_MS_024.wav  \n",
              "3    ./datasets/Data/audio/New_MS_002.wav  \n",
              "4    ./datasets/Data/audio/New_MS_114.wav  \n",
              "..                                    ...  \n",
              "995  ./datasets/Data/audio/New_AS_196.wav  \n",
              "996  ./datasets/Data/audio/New_AS_152.wav  \n",
              "997  ./datasets/Data/audio/New_AS_106.wav  \n",
              "998  ./datasets/Data/audio/New_AS_161.wav  \n",
              "999  ./datasets/Data/audio/New_AS_052.wav  \n",
              "\n",
              "[1000 rows x 5 columns]"
            ],
            "text/html": [
              "\n",
              "  <div id=\"df-c006c819-933b-4e6e-bb32-1be3d3c62399\" class=\"colab-df-container\">\n",
              "    <div>\n",
              "<style scoped>\n",
              "    .dataframe tbody tr th:only-of-type {\n",
              "        vertical-align: middle;\n",
              "    }\n",
              "\n",
              "    .dataframe tbody tr th {\n",
              "        vertical-align: top;\n",
              "    }\n",
              "\n",
              "    .dataframe thead th {\n",
              "        text-align: right;\n",
              "    }\n",
              "</style>\n",
              "<table border=\"1\" class=\"dataframe\">\n",
              "  <thead>\n",
              "    <tr style=\"text-align: right;\">\n",
              "      <th></th>\n",
              "      <th>file name</th>\n",
              "      <th>fold</th>\n",
              "      <th>target</th>\n",
              "      <th>foldername</th>\n",
              "      <th>filename</th>\n",
              "    </tr>\n",
              "  </thead>\n",
              "  <tbody>\n",
              "    <tr>\n",
              "      <th>0</th>\n",
              "      <td>New_MS_074.wav</td>\n",
              "      <td>5</td>\n",
              "      <td>2</td>\n",
              "      <td>MS</td>\n",
              "      <td>./datasets/Data/audio/New_MS_074.wav</td>\n",
              "    </tr>\n",
              "    <tr>\n",
              "      <th>1</th>\n",
              "      <td>New_MS_122.wav</td>\n",
              "      <td>5</td>\n",
              "      <td>2</td>\n",
              "      <td>MS</td>\n",
              "      <td>./datasets/Data/audio/New_MS_122.wav</td>\n",
              "    </tr>\n",
              "    <tr>\n",
              "      <th>2</th>\n",
              "      <td>New_MS_024.wav</td>\n",
              "      <td>5</td>\n",
              "      <td>2</td>\n",
              "      <td>MS</td>\n",
              "      <td>./datasets/Data/audio/New_MS_024.wav</td>\n",
              "    </tr>\n",
              "    <tr>\n",
              "      <th>3</th>\n",
              "      <td>New_MS_002.wav</td>\n",
              "      <td>5</td>\n",
              "      <td>2</td>\n",
              "      <td>MS</td>\n",
              "      <td>./datasets/Data/audio/New_MS_002.wav</td>\n",
              "    </tr>\n",
              "    <tr>\n",
              "      <th>4</th>\n",
              "      <td>New_MS_114.wav</td>\n",
              "      <td>5</td>\n",
              "      <td>2</td>\n",
              "      <td>MS</td>\n",
              "      <td>./datasets/Data/audio/New_MS_114.wav</td>\n",
              "    </tr>\n",
              "    <tr>\n",
              "      <th>...</th>\n",
              "      <td>...</td>\n",
              "      <td>...</td>\n",
              "      <td>...</td>\n",
              "      <td>...</td>\n",
              "      <td>...</td>\n",
              "    </tr>\n",
              "    <tr>\n",
              "      <th>995</th>\n",
              "      <td>New_AS_196.wav</td>\n",
              "      <td>1</td>\n",
              "      <td>0</td>\n",
              "      <td>AS</td>\n",
              "      <td>./datasets/Data/audio/New_AS_196.wav</td>\n",
              "    </tr>\n",
              "    <tr>\n",
              "      <th>996</th>\n",
              "      <td>New_AS_152.wav</td>\n",
              "      <td>1</td>\n",
              "      <td>0</td>\n",
              "      <td>AS</td>\n",
              "      <td>./datasets/Data/audio/New_AS_152.wav</td>\n",
              "    </tr>\n",
              "    <tr>\n",
              "      <th>997</th>\n",
              "      <td>New_AS_106.wav</td>\n",
              "      <td>1</td>\n",
              "      <td>0</td>\n",
              "      <td>AS</td>\n",
              "      <td>./datasets/Data/audio/New_AS_106.wav</td>\n",
              "    </tr>\n",
              "    <tr>\n",
              "      <th>998</th>\n",
              "      <td>New_AS_161.wav</td>\n",
              "      <td>1</td>\n",
              "      <td>0</td>\n",
              "      <td>AS</td>\n",
              "      <td>./datasets/Data/audio/New_AS_161.wav</td>\n",
              "    </tr>\n",
              "    <tr>\n",
              "      <th>999</th>\n",
              "      <td>New_AS_052.wav</td>\n",
              "      <td>1</td>\n",
              "      <td>0</td>\n",
              "      <td>AS</td>\n",
              "      <td>./datasets/Data/audio/New_AS_052.wav</td>\n",
              "    </tr>\n",
              "  </tbody>\n",
              "</table>\n",
              "<p>1000 rows × 5 columns</p>\n",
              "</div>\n",
              "    <div class=\"colab-df-buttons\">\n",
              "\n",
              "  <div class=\"colab-df-container\">\n",
              "    <button class=\"colab-df-convert\" onclick=\"convertToInteractive('df-c006c819-933b-4e6e-bb32-1be3d3c62399')\"\n",
              "            title=\"Convert this dataframe to an interactive table.\"\n",
              "            style=\"display:none;\">\n",
              "\n",
              "  <svg xmlns=\"http://www.w3.org/2000/svg\" height=\"24px\" viewBox=\"0 -960 960 960\">\n",
              "    <path d=\"M120-120v-720h720v720H120Zm60-500h600v-160H180v160Zm220 220h160v-160H400v160Zm0 220h160v-160H400v160ZM180-400h160v-160H180v160Zm440 0h160v-160H620v160ZM180-180h160v-160H180v160Zm440 0h160v-160H620v160Z\"/>\n",
              "  </svg>\n",
              "    </button>\n",
              "\n",
              "  <style>\n",
              "    .colab-df-container {\n",
              "      display:flex;\n",
              "      gap: 12px;\n",
              "    }\n",
              "\n",
              "    .colab-df-convert {\n",
              "      background-color: #E8F0FE;\n",
              "      border: none;\n",
              "      border-radius: 50%;\n",
              "      cursor: pointer;\n",
              "      display: none;\n",
              "      fill: #1967D2;\n",
              "      height: 32px;\n",
              "      padding: 0 0 0 0;\n",
              "      width: 32px;\n",
              "    }\n",
              "\n",
              "    .colab-df-convert:hover {\n",
              "      background-color: #E2EBFA;\n",
              "      box-shadow: 0px 1px 2px rgba(60, 64, 67, 0.3), 0px 1px 3px 1px rgba(60, 64, 67, 0.15);\n",
              "      fill: #174EA6;\n",
              "    }\n",
              "\n",
              "    .colab-df-buttons div {\n",
              "      margin-bottom: 4px;\n",
              "    }\n",
              "\n",
              "    [theme=dark] .colab-df-convert {\n",
              "      background-color: #3B4455;\n",
              "      fill: #D2E3FC;\n",
              "    }\n",
              "\n",
              "    [theme=dark] .colab-df-convert:hover {\n",
              "      background-color: #434B5C;\n",
              "      box-shadow: 0px 1px 3px 1px rgba(0, 0, 0, 0.15);\n",
              "      filter: drop-shadow(0px 1px 2px rgba(0, 0, 0, 0.3));\n",
              "      fill: #FFFFFF;\n",
              "    }\n",
              "  </style>\n",
              "\n",
              "    <script>\n",
              "      const buttonEl =\n",
              "        document.querySelector('#df-c006c819-933b-4e6e-bb32-1be3d3c62399 button.colab-df-convert');\n",
              "      buttonEl.style.display =\n",
              "        google.colab.kernel.accessAllowed ? 'block' : 'none';\n",
              "\n",
              "      async function convertToInteractive(key) {\n",
              "        const element = document.querySelector('#df-c006c819-933b-4e6e-bb32-1be3d3c62399');\n",
              "        const dataTable =\n",
              "          await google.colab.kernel.invokeFunction('convertToInteractive',\n",
              "                                                    [key], {});\n",
              "        if (!dataTable) return;\n",
              "\n",
              "        const docLinkHtml = 'Like what you see? Visit the ' +\n",
              "          '<a target=\"_blank\" href=https://colab.research.google.com/notebooks/data_table.ipynb>data table notebook</a>'\n",
              "          + ' to learn more about interactive tables.';\n",
              "        element.innerHTML = '';\n",
              "        dataTable['output_type'] = 'display_data';\n",
              "        await google.colab.output.renderOutput(dataTable, element);\n",
              "        const docLink = document.createElement('div');\n",
              "        docLink.innerHTML = docLinkHtml;\n",
              "        element.appendChild(docLink);\n",
              "      }\n",
              "    </script>\n",
              "  </div>\n",
              "\n",
              "\n",
              "    <div id=\"df-0ff3bfdc-75fd-4619-b528-e6478abe5261\">\n",
              "      <button class=\"colab-df-quickchart\" onclick=\"quickchart('df-0ff3bfdc-75fd-4619-b528-e6478abe5261')\"\n",
              "                title=\"Suggest charts\"\n",
              "                style=\"display:none;\">\n",
              "\n",
              "<svg xmlns=\"http://www.w3.org/2000/svg\" height=\"24px\"viewBox=\"0 0 24 24\"\n",
              "     width=\"24px\">\n",
              "    <g>\n",
              "        <path d=\"M19 3H5c-1.1 0-2 .9-2 2v14c0 1.1.9 2 2 2h14c1.1 0 2-.9 2-2V5c0-1.1-.9-2-2-2zM9 17H7v-7h2v7zm4 0h-2V7h2v10zm4 0h-2v-4h2v4z\"/>\n",
              "    </g>\n",
              "</svg>\n",
              "      </button>\n",
              "\n",
              "<style>\n",
              "  .colab-df-quickchart {\n",
              "      --bg-color: #E8F0FE;\n",
              "      --fill-color: #1967D2;\n",
              "      --hover-bg-color: #E2EBFA;\n",
              "      --hover-fill-color: #174EA6;\n",
              "      --disabled-fill-color: #AAA;\n",
              "      --disabled-bg-color: #DDD;\n",
              "  }\n",
              "\n",
              "  [theme=dark] .colab-df-quickchart {\n",
              "      --bg-color: #3B4455;\n",
              "      --fill-color: #D2E3FC;\n",
              "      --hover-bg-color: #434B5C;\n",
              "      --hover-fill-color: #FFFFFF;\n",
              "      --disabled-bg-color: #3B4455;\n",
              "      --disabled-fill-color: #666;\n",
              "  }\n",
              "\n",
              "  .colab-df-quickchart {\n",
              "    background-color: var(--bg-color);\n",
              "    border: none;\n",
              "    border-radius: 50%;\n",
              "    cursor: pointer;\n",
              "    display: none;\n",
              "    fill: var(--fill-color);\n",
              "    height: 32px;\n",
              "    padding: 0;\n",
              "    width: 32px;\n",
              "  }\n",
              "\n",
              "  .colab-df-quickchart:hover {\n",
              "    background-color: var(--hover-bg-color);\n",
              "    box-shadow: 0 1px 2px rgba(60, 64, 67, 0.3), 0 1px 3px 1px rgba(60, 64, 67, 0.15);\n",
              "    fill: var(--button-hover-fill-color);\n",
              "  }\n",
              "\n",
              "  .colab-df-quickchart-complete:disabled,\n",
              "  .colab-df-quickchart-complete:disabled:hover {\n",
              "    background-color: var(--disabled-bg-color);\n",
              "    fill: var(--disabled-fill-color);\n",
              "    box-shadow: none;\n",
              "  }\n",
              "\n",
              "  .colab-df-spinner {\n",
              "    border: 2px solid var(--fill-color);\n",
              "    border-color: transparent;\n",
              "    border-bottom-color: var(--fill-color);\n",
              "    animation:\n",
              "      spin 1s steps(1) infinite;\n",
              "  }\n",
              "\n",
              "  @keyframes spin {\n",
              "    0% {\n",
              "      border-color: transparent;\n",
              "      border-bottom-color: var(--fill-color);\n",
              "      border-left-color: var(--fill-color);\n",
              "    }\n",
              "    20% {\n",
              "      border-color: transparent;\n",
              "      border-left-color: var(--fill-color);\n",
              "      border-top-color: var(--fill-color);\n",
              "    }\n",
              "    30% {\n",
              "      border-color: transparent;\n",
              "      border-left-color: var(--fill-color);\n",
              "      border-top-color: var(--fill-color);\n",
              "      border-right-color: var(--fill-color);\n",
              "    }\n",
              "    40% {\n",
              "      border-color: transparent;\n",
              "      border-right-color: var(--fill-color);\n",
              "      border-top-color: var(--fill-color);\n",
              "    }\n",
              "    60% {\n",
              "      border-color: transparent;\n",
              "      border-right-color: var(--fill-color);\n",
              "    }\n",
              "    80% {\n",
              "      border-color: transparent;\n",
              "      border-right-color: var(--fill-color);\n",
              "      border-bottom-color: var(--fill-color);\n",
              "    }\n",
              "    90% {\n",
              "      border-color: transparent;\n",
              "      border-bottom-color: var(--fill-color);\n",
              "    }\n",
              "  }\n",
              "</style>\n",
              "\n",
              "      <script>\n",
              "        async function quickchart(key) {\n",
              "          const quickchartButtonEl =\n",
              "            document.querySelector('#' + key + ' button');\n",
              "          quickchartButtonEl.disabled = true;  // To prevent multiple clicks.\n",
              "          quickchartButtonEl.classList.add('colab-df-spinner');\n",
              "          try {\n",
              "            const charts = await google.colab.kernel.invokeFunction(\n",
              "                'suggestCharts', [key], {});\n",
              "          } catch (error) {\n",
              "            console.error('Error during call to suggestCharts:', error);\n",
              "          }\n",
              "          quickchartButtonEl.classList.remove('colab-df-spinner');\n",
              "          quickchartButtonEl.classList.add('colab-df-quickchart-complete');\n",
              "        }\n",
              "        (() => {\n",
              "          let quickchartButtonEl =\n",
              "            document.querySelector('#df-0ff3bfdc-75fd-4619-b528-e6478abe5261 button');\n",
              "          quickchartButtonEl.style.display =\n",
              "            google.colab.kernel.accessAllowed ? 'block' : 'none';\n",
              "        })();\n",
              "      </script>\n",
              "    </div>\n",
              "\n",
              "    </div>\n",
              "  </div>\n"
            ],
            "application/vnd.google.colaboratory.intrinsic+json": {
              "type": "dataframe",
              "variable_name": "filtered_pd",
              "summary": "{\n  \"name\": \"filtered_pd\",\n  \"rows\": 1000,\n  \"fields\": [\n    {\n      \"column\": \"file name\",\n      \"properties\": {\n        \"dtype\": \"string\",\n        \"num_unique_values\": 1000,\n        \"samples\": [\n          \"New_MR_169.wav\",\n          \"New_N_056.wav\",\n          \"New_N_064.wav\"\n        ],\n        \"semantic_type\": \"\",\n        \"description\": \"\"\n      }\n    },\n    {\n      \"column\": \"fold\",\n      \"properties\": {\n        \"dtype\": \"number\",\n        \"std\": 1,\n        \"min\": 1,\n        \"max\": 5,\n        \"num_unique_values\": 3,\n        \"samples\": [\n          5,\n          4,\n          1\n        ],\n        \"semantic_type\": \"\",\n        \"description\": \"\"\n      }\n    },\n    {\n      \"column\": \"target\",\n      \"properties\": {\n        \"dtype\": \"number\",\n        \"std\": 1,\n        \"min\": 0,\n        \"max\": 4,\n        \"num_unique_values\": 5,\n        \"samples\": [\n          3,\n          0,\n          1\n        ],\n        \"semantic_type\": \"\",\n        \"description\": \"\"\n      }\n    },\n    {\n      \"column\": \"foldername\",\n      \"properties\": {\n        \"dtype\": \"category\",\n        \"num_unique_values\": 5,\n        \"samples\": [\n          \"MVP\",\n          \"AS\",\n          \"MR\"\n        ],\n        \"semantic_type\": \"\",\n        \"description\": \"\"\n      }\n    },\n    {\n      \"column\": \"filename\",\n      \"properties\": {\n        \"dtype\": \"string\",\n        \"num_unique_values\": 1000,\n        \"samples\": [\n          \"./datasets/Data/audio/New_MR_169.wav\",\n          \"./datasets/Data/audio/New_N_056.wav\",\n          \"./datasets/Data/audio/New_N_064.wav\"\n        ],\n        \"semantic_type\": \"\",\n        \"description\": \"\"\n      }\n    }\n  ]\n}"
            }
          },
          "metadata": {},
          "execution_count": 13
        }
      ],
      "source": [
        "my_classes = ['AS', 'MR', 'MS', 'MVP', 'N']\n",
        "map_class_to_id = {'AS':0, 'MR':1, 'MS':2, 'MVP':3, 'N': 4}\n",
        "\n",
        "filtered_pd = pd_data[pd_data.foldername.isin(my_classes)]\n",
        "\n",
        "class_id = filtered_pd['foldername'].apply(lambda name: map_class_to_id[name])\n",
        "filtered_pd = filtered_pd.assign(target=class_id)\n",
        "\n",
        "full_path = filtered_pd['file name'].apply(lambda row: os.path.join(base_data_path, row))\n",
        "filtered_pd = filtered_pd.assign(filename=full_path)\n",
        "\n",
        "filtered_pd.head(1000)"
      ]
    },
    {
      "cell_type": "markdown",
      "metadata": {
        "id": "BkDcBS-aJdCz"
      },
      "source": [
        "### Load the audio files and retrieve embeddings\n",
        "\n",
        "Here you'll apply the `load_wav_16k_mono` and prepare the WAV data for the model.\n",
        "\n",
        "When extracting embeddings from the WAV data, you get an array of shape `(N, 1024)`  where `N` is the number of frames that YAMNet found (one for every 0.48 seconds of audio)."
      ]
    },
    {
      "cell_type": "markdown",
      "metadata": {
        "id": "AKDT5RomaDKO"
      },
      "source": [
        "Your model will use each frame as one input. Therefore, you need to create a new column that has one frame per row. You also need to expand the labels and the `fold` column to proper reflect these new rows.\n",
        "\n",
        "The expanded `fold` column keeps the original values. You cannot mix frames because, when performing the splits, you might end up having parts of the same audio on different splits, which would make your validation and test steps less effective."
      ]
    },
    {
      "cell_type": "code",
      "execution_count": null,
      "metadata": {
        "id": "u5Rq3_PyKLtU",
        "colab": {
          "base_uri": "https://localhost:8080/"
        },
        "outputId": "8ece440f-4596-4e08-cf3f-efabc3a3ef55"
      },
      "outputs": [
        {
          "output_type": "stream",
          "name": "stdout",
          "text": [
            "<_TakeDataset element_spec=(TensorSpec(shape=(), dtype=tf.string, name=None), TensorSpec(shape=(), dtype=tf.int64, name=None), TensorSpec(shape=(), dtype=tf.int64, name=None))>\n"
          ]
        }
      ],
      "source": [
        "filenames = filtered_pd['filename']\n",
        "targets = filtered_pd['target']\n",
        "folds = filtered_pd['fold']\n",
        "\n",
        "main_ds = tf.data.Dataset.from_tensor_slices((filenames, targets, folds))\n",
        "main_ds.element_spec\n",
        "print(main_ds.take(1000))"
      ]
    },
    {
      "cell_type": "code",
      "execution_count": null,
      "metadata": {
        "id": "rsEfovDVAHGY",
        "colab": {
          "base_uri": "https://localhost:8080/"
        },
        "outputId": "d2177981-3c35-4d17-8a5b-637211d01e00"
      },
      "outputs": [
        {
          "output_type": "stream",
          "name": "stderr",
          "text": [
            "WARNING:tensorflow:Using a while_loop for converting IO>AudioResample cause there is no registered converter for this op.\n"
          ]
        },
        {
          "output_type": "execute_result",
          "data": {
            "text/plain": [
              "(TensorSpec(shape=<unknown>, dtype=tf.float32, name=None),\n",
              " TensorSpec(shape=(), dtype=tf.int64, name=None),\n",
              " TensorSpec(shape=(), dtype=tf.int64, name=None))"
            ]
          },
          "metadata": {},
          "execution_count": 15
        }
      ],
      "source": [
        "def load_wav_for_map(filename, label, fold):\n",
        "  return load_wav_16k_mono(filename), label, fold\n",
        "\n",
        "main_ds = main_ds.map(load_wav_for_map)\n",
        "main_ds.element_spec"
      ]
    },
    {
      "cell_type": "code",
      "execution_count": null,
      "metadata": {
        "id": "k0tG8DBNAHcE",
        "colab": {
          "base_uri": "https://localhost:8080/"
        },
        "outputId": "bc9ebf3f-11db-4a39-a65c-8dd5782b255a"
      },
      "outputs": [
        {
          "output_type": "execute_result",
          "data": {
            "text/plain": [
              "(TensorSpec(shape=(1024,), dtype=tf.float32, name=None),\n",
              " TensorSpec(shape=(), dtype=tf.int64, name=None),\n",
              " TensorSpec(shape=(), dtype=tf.int64, name=None))"
            ]
          },
          "metadata": {},
          "execution_count": 16
        }
      ],
      "source": [
        "# applies the embedding extraction model to a wav data\n",
        "def extract_embedding(wav_data, label, fold):\n",
        "  ''' run YAMNet to extract embedding from the wav data '''\n",
        "  scores, embeddings, spectrogram = yamnet_model(wav_data)\n",
        "  num_embeddings = tf.shape(embeddings)[0]\n",
        "  return (embeddings,\n",
        "            tf.repeat(label, num_embeddings),\n",
        "            tf.repeat(fold, num_embeddings))\n",
        "\n",
        "# extract embedding\n",
        "main_ds = main_ds.map(extract_embedding).unbatch()\n",
        "main_ds.element_spec"
      ]
    },
    {
      "cell_type": "markdown",
      "metadata": {
        "id": "ZdfPIeD0Qedk"
      },
      "source": [
        "### Split the data\n",
        "\n",
        "You will use the `fold` column to split the dataset into train, validation and test sets.\n",
        "\n",
        "The last step is to remove the `fold` column from the dataset since you're not going to use it during training.\n"
      ]
    },
    {
      "cell_type": "code",
      "execution_count": null,
      "metadata": {
        "id": "1ZYvlFiVsffC"
      },
      "outputs": [],
      "source": [
        "cached_ds = main_ds.cache()\n",
        "train_ds = cached_ds.filter(lambda embedding, label, fold: fold < 4)\n",
        "val_ds = cached_ds.filter(lambda embedding, label, fold: fold == 4)\n",
        "test_ds = cached_ds.filter(lambda embedding, label, fold: fold == 5)\n",
        "\n",
        "# remove the folds column now that it's not needed anymore\n",
        "remove_fold_column = lambda embedding, label, fold: (embedding, label)\n",
        "\n",
        "train_ds = train_ds.map(remove_fold_column)\n",
        "val_ds = val_ds.map(remove_fold_column)\n",
        "test_ds = test_ds.map(remove_fold_column)\n",
        "\n",
        "train_ds = train_ds.cache().shuffle(100).batch(32).prefetch(tf.data.AUTOTUNE)\n",
        "val_ds = val_ds.cache().batch(32).prefetch(tf.data.AUTOTUNE)\n",
        "test_ds = test_ds.cache().batch(32).prefetch(tf.data.AUTOTUNE)"
      ]
    },
    {
      "cell_type": "markdown",
      "metadata": {
        "id": "v5PaMwvtcAIe"
      },
      "source": [
        "## Create your model\n",
        "\n",
        "You did most of the work!\n",
        "Next, define a very simple [Sequential](https://www.tensorflow.org/guide/keras/sequential_model) model with one hidden layer and two outputs to recognize cats and dogs from sounds.\n"
      ]
    },
    {
      "cell_type": "code",
      "execution_count": null,
      "metadata": {
        "id": "JYCE0Fr1GpN3",
        "colab": {
          "base_uri": "https://localhost:8080/"
        },
        "outputId": "f376b6b2-4a54-4e53-d227-b190eafb07ab"
      },
      "outputs": [
        {
          "output_type": "stream",
          "name": "stdout",
          "text": [
            "Model: \"my_model\"\n",
            "_________________________________________________________________\n",
            " Layer (type)                Output Shape              Param #   \n",
            "=================================================================\n",
            " dense (Dense)               (None, 512)               524800    \n",
            "                                                                 \n",
            " dense_1 (Dense)             (None, 5)                 2565      \n",
            "                                                                 \n",
            "=================================================================\n",
            "Total params: 527365 (2.01 MB)\n",
            "Trainable params: 527365 (2.01 MB)\n",
            "Non-trainable params: 0 (0.00 Byte)\n",
            "_________________________________________________________________\n"
          ]
        }
      ],
      "source": [
        "my_model = tf.keras.Sequential([\n",
        "    tf.keras.layers.Input(shape=(1024), dtype=tf.float32,\n",
        "                          name='input_embedding'),\n",
        "    tf.keras.layers.Dense(512, activation='relu'),\n",
        "    tf.keras.layers.Dense(len(my_classes))\n",
        "], name='my_model')\n",
        "\n",
        "my_model.summary()"
      ]
    },
    {
      "cell_type": "code",
      "execution_count": null,
      "metadata": {
        "id": "l1qgH35HY0SE"
      },
      "outputs": [],
      "source": [
        "my_model.compile(loss=tf.keras.losses.SparseCategoricalCrossentropy(from_logits=True),\n",
        "                 optimizer=\"adam\",\n",
        "                 metrics=['accuracy'])\n",
        "\n",
        "callback = tf.keras.callbacks.EarlyStopping(monitor='loss',\n",
        "                                            patience=3,\n",
        "                                            restore_best_weights=True)"
      ]
    },
    {
      "cell_type": "code",
      "execution_count": null,
      "metadata": {
        "colab": {
          "base_uri": "https://localhost:8080/"
        },
        "id": "T3sj84eOZ3pk",
        "outputId": "bc2d03eb-c5c7-496e-d71f-1eee6cb6b0e2"
      },
      "outputs": [
        {
          "output_type": "stream",
          "name": "stdout",
          "text": [
            "Epoch 1/200\n",
            "93/93 [==============================] - 28s 248ms/step - loss: 2.2107 - accuracy: 0.5190 - val_loss: 5.4403 - val_accuracy: 0.2281\n",
            "Epoch 2/200\n",
            "93/93 [==============================] - 1s 6ms/step - loss: 2.2184 - accuracy: 0.2866 - val_loss: 1.9723 - val_accuracy: 0.3907\n",
            "Epoch 3/200\n",
            "93/93 [==============================] - 1s 6ms/step - loss: 1.6615 - accuracy: 0.3717 - val_loss: 2.0963 - val_accuracy: 0.3784\n",
            "Epoch 4/200\n",
            "93/93 [==============================] - 1s 6ms/step - loss: 1.5154 - accuracy: 0.4208 - val_loss: 2.2016 - val_accuracy: 0.4194\n",
            "Epoch 5/200\n",
            "93/93 [==============================] - 1s 6ms/step - loss: 1.5101 - accuracy: 0.4181 - val_loss: 1.4728 - val_accuracy: 0.5492\n",
            "Epoch 6/200\n",
            "93/93 [==============================] - 1s 6ms/step - loss: 1.3470 - accuracy: 0.4864 - val_loss: 1.1535 - val_accuracy: 0.5984\n",
            "Epoch 7/200\n",
            "93/93 [==============================] - 1s 6ms/step - loss: 1.2335 - accuracy: 0.4968 - val_loss: 1.1541 - val_accuracy: 0.5915\n",
            "Epoch 8/200\n",
            "93/93 [==============================] - 1s 6ms/step - loss: 1.1021 - accuracy: 0.5341 - val_loss: 1.3560 - val_accuracy: 0.5533\n",
            "Epoch 9/200\n",
            "93/93 [==============================] - 1s 5ms/step - loss: 1.1166 - accuracy: 0.5526 - val_loss: 1.0178 - val_accuracy: 0.6134\n",
            "Epoch 10/200\n",
            "93/93 [==============================] - 1s 6ms/step - loss: 1.0959 - accuracy: 0.5469 - val_loss: 0.9496 - val_accuracy: 0.6311\n",
            "Epoch 11/200\n",
            "93/93 [==============================] - 1s 6ms/step - loss: 1.0079 - accuracy: 0.5826 - val_loss: 0.8967 - val_accuracy: 0.6462\n",
            "Epoch 12/200\n",
            "93/93 [==============================] - 1s 6ms/step - loss: 0.9540 - accuracy: 0.5917 - val_loss: 0.8250 - val_accuracy: 0.6694\n",
            "Epoch 13/200\n",
            "93/93 [==============================] - 1s 9ms/step - loss: 0.8915 - accuracy: 0.6398 - val_loss: 0.9158 - val_accuracy: 0.6393\n",
            "Epoch 14/200\n",
            "93/93 [==============================] - 1s 10ms/step - loss: 0.9029 - accuracy: 0.6438 - val_loss: 0.9090 - val_accuracy: 0.6421\n",
            "Epoch 15/200\n",
            "93/93 [==============================] - 1s 10ms/step - loss: 0.9482 - accuracy: 0.6236 - val_loss: 1.0833 - val_accuracy: 0.6366\n",
            "Epoch 16/200\n",
            "93/93 [==============================] - 2s 21ms/step - loss: 0.8610 - accuracy: 0.6646 - val_loss: 0.8062 - val_accuracy: 0.6667\n",
            "Epoch 17/200\n",
            "93/93 [==============================] - 2s 21ms/step - loss: 0.8085 - accuracy: 0.6724 - val_loss: 0.7846 - val_accuracy: 0.6831\n",
            "Epoch 18/200\n",
            "93/93 [==============================] - 1s 11ms/step - loss: 0.8153 - accuracy: 0.6741 - val_loss: 0.6661 - val_accuracy: 0.7541\n",
            "Epoch 19/200\n",
            "93/93 [==============================] - 1s 6ms/step - loss: 0.7307 - accuracy: 0.7319 - val_loss: 0.6597 - val_accuracy: 0.7418\n",
            "Epoch 20/200\n",
            "93/93 [==============================] - 1s 6ms/step - loss: 0.7038 - accuracy: 0.7272 - val_loss: 0.6252 - val_accuracy: 0.7582\n",
            "Epoch 21/200\n",
            "93/93 [==============================] - 1s 6ms/step - loss: 0.7127 - accuracy: 0.7198 - val_loss: 0.8972 - val_accuracy: 0.7131\n",
            "Epoch 22/200\n",
            "93/93 [==============================] - 1s 6ms/step - loss: 0.6446 - accuracy: 0.7767 - val_loss: 0.7256 - val_accuracy: 0.7555\n",
            "Epoch 23/200\n",
            "93/93 [==============================] - 1s 6ms/step - loss: 0.6593 - accuracy: 0.7619 - val_loss: 0.6463 - val_accuracy: 0.7664\n",
            "Epoch 24/200\n",
            "93/93 [==============================] - 1s 6ms/step - loss: 0.6050 - accuracy: 0.7854 - val_loss: 0.8202 - val_accuracy: 0.6981\n",
            "Epoch 25/200\n",
            "93/93 [==============================] - 1s 6ms/step - loss: 0.6492 - accuracy: 0.7622 - val_loss: 0.6125 - val_accuracy: 0.7664\n",
            "Epoch 26/200\n",
            "93/93 [==============================] - 1s 6ms/step - loss: 0.5559 - accuracy: 0.8032 - val_loss: 0.7815 - val_accuracy: 0.7036\n",
            "Epoch 27/200\n",
            "93/93 [==============================] - 1s 6ms/step - loss: 0.5823 - accuracy: 0.7884 - val_loss: 0.5463 - val_accuracy: 0.7992\n",
            "Epoch 28/200\n",
            "93/93 [==============================] - 1s 6ms/step - loss: 0.5131 - accuracy: 0.8200 - val_loss: 0.5222 - val_accuracy: 0.8101\n",
            "Epoch 29/200\n",
            "93/93 [==============================] - 1s 6ms/step - loss: 0.5127 - accuracy: 0.8200 - val_loss: 0.7025 - val_accuracy: 0.7363\n",
            "Epoch 30/200\n",
            "93/93 [==============================] - 1s 6ms/step - loss: 0.4879 - accuracy: 0.8332 - val_loss: 0.5672 - val_accuracy: 0.7910\n",
            "Epoch 31/200\n",
            "93/93 [==============================] - 1s 7ms/step - loss: 0.4849 - accuracy: 0.8281 - val_loss: 0.5018 - val_accuracy: 0.8169\n",
            "Epoch 32/200\n",
            "93/93 [==============================] - 1s 10ms/step - loss: 0.4557 - accuracy: 0.8365 - val_loss: 0.4707 - val_accuracy: 0.8265\n",
            "Epoch 33/200\n",
            "93/93 [==============================] - 1s 10ms/step - loss: 0.4280 - accuracy: 0.8473 - val_loss: 0.4622 - val_accuracy: 0.8306\n",
            "Epoch 34/200\n",
            "93/93 [==============================] - 1s 6ms/step - loss: 0.4124 - accuracy: 0.8560 - val_loss: 0.4600 - val_accuracy: 0.8320\n",
            "Epoch 35/200\n",
            "93/93 [==============================] - 1s 6ms/step - loss: 0.4081 - accuracy: 0.8591 - val_loss: 0.4503 - val_accuracy: 0.8333\n",
            "Epoch 36/200\n",
            "93/93 [==============================] - 1s 6ms/step - loss: 0.3881 - accuracy: 0.8661 - val_loss: 0.4555 - val_accuracy: 0.8429\n",
            "Epoch 37/200\n",
            "93/93 [==============================] - 1s 6ms/step - loss: 0.3595 - accuracy: 0.8762 - val_loss: 0.4330 - val_accuracy: 0.8402\n",
            "Epoch 38/200\n",
            "93/93 [==============================] - 1s 6ms/step - loss: 0.3524 - accuracy: 0.8806 - val_loss: 0.4276 - val_accuracy: 0.8525\n",
            "Epoch 39/200\n",
            "93/93 [==============================] - 1s 6ms/step - loss: 0.3467 - accuracy: 0.8806 - val_loss: 0.4250 - val_accuracy: 0.8470\n",
            "Epoch 40/200\n",
            "93/93 [==============================] - 1s 6ms/step - loss: 0.3341 - accuracy: 0.8856 - val_loss: 0.4182 - val_accuracy: 0.8497\n",
            "Epoch 41/200\n",
            "93/93 [==============================] - 1s 6ms/step - loss: 0.3157 - accuracy: 0.8920 - val_loss: 0.4260 - val_accuracy: 0.8484\n",
            "Epoch 42/200\n",
            "93/93 [==============================] - 1s 6ms/step - loss: 0.3124 - accuracy: 0.8947 - val_loss: 0.4259 - val_accuracy: 0.8538\n",
            "Epoch 43/200\n",
            "93/93 [==============================] - 1s 6ms/step - loss: 0.3137 - accuracy: 0.8883 - val_loss: 0.9348 - val_accuracy: 0.7145\n",
            "Epoch 44/200\n",
            "93/93 [==============================] - 1s 6ms/step - loss: 0.4215 - accuracy: 0.8507 - val_loss: 0.6490 - val_accuracy: 0.7691\n",
            "Epoch 45/200\n",
            "93/93 [==============================] - 1s 6ms/step - loss: 0.3377 - accuracy: 0.8766 - val_loss: 0.4365 - val_accuracy: 0.8470\n"
          ]
        }
      ],
      "source": [
        "history = my_model.fit(train_ds,\n",
        "                       epochs=200,\n",
        "                       validation_data=val_ds,\n",
        "                       callbacks=callback)"
      ]
    },
    {
      "cell_type": "markdown",
      "metadata": {
        "id": "OAbraYKYpdoE"
      },
      "source": [
        "Let's run the `evaluate` method on the test data just to be sure there's no overfitting."
      ]
    },
    {
      "cell_type": "code",
      "execution_count": null,
      "metadata": {
        "id": "H4Nh5nec3Sky",
        "colab": {
          "base_uri": "https://localhost:8080/"
        },
        "outputId": "05e2c528-224f-4bbd-ade3-e620cf38a276"
      },
      "outputs": [
        {
          "output_type": "stream",
          "name": "stdout",
          "text": [
            "30/30 [==============================] - 0s 5ms/step - loss: 0.4099 - accuracy: 0.8462\n",
            "Loss:  0.4098851978778839\n",
            "Accuracy:  0.8462365865707397\n"
          ]
        }
      ],
      "source": [
        "loss, accuracy = my_model.evaluate(test_ds)\n",
        "\n",
        "print(\"Loss: \", loss)\n",
        "print(\"Accuracy: \", accuracy)"
      ]
    },
    {
      "cell_type": "markdown",
      "metadata": {
        "id": "cid-qIrIpqHS"
      },
      "source": [
        "You did it!"
      ]
    },
    {
      "cell_type": "code",
      "execution_count": null,
      "metadata": {
        "id": "udYwYVJ11oGy"
      },
      "outputs": [],
      "source": [
        "saved_model_path = \"./saved_model\"\n",
        "\n",
        "# Save the model\n",
        "tf.saved_model.save(my_model, saved_model_path)"
      ]
    },
    {
      "cell_type": "markdown",
      "metadata": {
        "id": "nCKZonrJcXab"
      },
      "source": [
        "## Test your model\n",
        "\n",
        "Next, try your model on the embedding from the previous test using YAMNet only.\n"
      ]
    },
    {
      "cell_type": "code",
      "execution_count": null,
      "metadata": {
        "id": "79AFpA3_ctCF",
        "colab": {
          "base_uri": "https://localhost:8080/"
        },
        "outputId": "7cfa85b0-48c4-4762-ad07-e9f01b5e1c92"
      },
      "outputs": [
        {
          "output_type": "stream",
          "name": "stdout",
          "text": [
            "[[-5.0877204  -2.3137765   1.1040497  -1.1232774  -3.3459444 ]\n",
            " [-5.6508055  -0.32139573  1.7241658  -0.958832   -1.7015319 ]\n",
            " [-4.9139385  -0.30706313  1.1143956  -2.3379357  -6.0252542 ]\n",
            " [-3.3304133   0.0581975   1.9542615  -2.065112   -4.1083946 ]]\n",
            "The main sound is: MS\n"
          ]
        }
      ],
      "source": [
        "scores, embeddings, spectrogram = yamnet_model(testing_wav_data)\n",
        "result = my_model(embeddings).numpy()\n",
        "\n",
        "print(result)\n",
        "\n",
        "inferred_class = my_classes[result.mean(axis=0).argmax()]\n",
        "print(f'The main sound is: {inferred_class}')"
      ]
    },
    {
      "cell_type": "markdown",
      "metadata": {
        "id": "k2yleeev645r"
      },
      "source": [
        "## Save a model that can directly take a WAV file as input\n",
        "\n",
        "Your model works when you give it the embeddings as input.\n",
        "\n",
        "In a real-world scenario, you'll want to use audio data as a direct input.\n",
        "\n",
        "To do that, you will combine YAMNet with your model into a single model that you can export for other applications.\n",
        "\n",
        "To make it easier to use the model's result, the final layer will be a `reduce_mean` operation. When using this model for serving (which you will learn about later in the tutorial), you will need the name of the final layer. If you don't define one, TensorFlow will auto-define an incremental one that makes it hard to test, as it will keep changing every time you train the model. When using a raw TensorFlow operation, you can't assign a name to it. To address this issue, you'll create a custom layer that applies `reduce_mean` and call it `'classifier'`.\n"
      ]
    },
    {
      "cell_type": "code",
      "execution_count": null,
      "metadata": {
        "id": "QUVCI2Suunpw"
      },
      "outputs": [],
      "source": [
        "class ReduceMeanLayer(tf.keras.layers.Layer):\n",
        "  def __init__(self, axis=0, **kwargs):\n",
        "    super(ReduceMeanLayer, self).__init__(**kwargs)\n",
        "    self.axis = axis\n",
        "\n",
        "  def call(self, input):\n",
        "    return tf.math.reduce_mean(input, axis=self.axis)"
      ]
    },
    {
      "cell_type": "code",
      "execution_count": null,
      "metadata": {
        "id": "zE_Npm0nzlwc",
        "colab": {
          "base_uri": "https://localhost:8080/"
        },
        "outputId": "3ff6e5a7-6cb3-4c5b-fd44-feb6c4f7a984"
      },
      "outputs": [
        {
          "output_type": "stream",
          "name": "stderr",
          "text": [
            "WARNING:tensorflow:Compiled the loaded model, but the compiled metrics have yet to be built. `model.compile_metrics` will be empty until you train or evaluate the model.\n",
            "/usr/local/lib/python3.11/dist-packages/keras/src/engine/training.py:3103: UserWarning: You are saving your model as an HDF5 file via `model.save()`. This file format is considered legacy. We recommend using instead the native Keras format, e.g. `model.save('my_model.keras')`.\n",
            "  saving_api.save_model(\n",
            "WARNING:tensorflow:Compiled the loaded model, but the compiled metrics have yet to be built. `model.compile_metrics` will be empty until you train or evaluate the model.\n"
          ]
        }
      ],
      "source": [
        "saved_model_path = './dogs_and_cats_yamnet_test'\n",
        "\n",
        "input_segment = tf.keras.layers.Input(shape=(), dtype=tf.float32, name='audio')\n",
        "embedding_extraction_layer = hub.KerasLayer(yamnet_model_handle,\n",
        "                                            trainable=False, name='yamnet')\n",
        "_, embeddings_output, _ = embedding_extraction_layer(input_segment)\n",
        "serving_outputs = my_model(embeddings_output)\n",
        "serving_outputs = ReduceMeanLayer(axis=0, name='classifier')(serving_outputs)\n",
        "serving_model = tf.keras.Model(input_segment, serving_outputs)\n",
        "serving_model.save(saved_model_path, include_optimizer=False)\n",
        "serving_model.save('final_model.h5', include_optimizer=False)"
      ]
    },
    {
      "cell_type": "markdown",
      "metadata": {
        "id": "btHQDN9mqxM_"
      },
      "source": [
        "Load your saved model to verify that it works as expected."
      ]
    },
    {
      "cell_type": "code",
      "source": [
        "class SplitLayer(tf.keras.layers.Layer):\n",
        "    def call(self, inputs):\n",
        "        return tf.split(inputs, num_or_size_splits=5, axis=-1)\n"
      ],
      "metadata": {
        "id": "zw84sbgrAq8q"
      },
      "execution_count": null,
      "outputs": []
    },
    {
      "cell_type": "code",
      "source": [
        "split_model_path = './dogs_and_cats_yamnet_split'\n",
        "\n",
        "input_segment = tf.keras.layers.Input(shape=(), dtype=tf.float32, name='audio')\n",
        "embedding_extraction_layer = hub.KerasLayer(yamnet_model_handle,\n",
        "                                            trainable=False, name='yamnet')\n",
        "_, embeddings_output, _ = embedding_extraction_layer(input_segment)\n",
        "serving_outputs = my_model(embeddings_output)\n",
        "serving_outputs = ReduceMeanLayer(axis=0, name='classifier')(serving_outputs)\n",
        "serving_outputs = SplitLayer()(serving_outputs)\n",
        "serving_outputs = [tf.squeeze(output, axis=-1) for output in serving_outputs]\n",
        "serving_model = tf.keras.Model(input_segment, serving_outputs)\n",
        "serving_model.save(split_model_path, include_optimizer=False)\n",
        "serving_model.save('final_model.h5', include_optimizer=False)"
      ],
      "metadata": {
        "colab": {
          "base_uri": "https://localhost:8080/"
        },
        "id": "A6TDQGLnAsjo",
        "outputId": "b8acfe89-3ed9-4d47-90cd-6fd070bfb080"
      },
      "execution_count": null,
      "outputs": [
        {
          "output_type": "stream",
          "name": "stderr",
          "text": [
            "WARNING:tensorflow:Compiled the loaded model, but the compiled metrics have yet to be built. `model.compile_metrics` will be empty until you train or evaluate the model.\n",
            "/usr/local/lib/python3.11/dist-packages/keras/src/engine/training.py:3103: UserWarning: You are saving your model as an HDF5 file via `model.save()`. This file format is considered legacy. We recommend using instead the native Keras format, e.g. `model.save('my_model.keras')`.\n",
            "  saving_api.save_model(\n",
            "WARNING:tensorflow:Compiled the loaded model, but the compiled metrics have yet to be built. `model.compile_metrics` will be empty until you train or evaluate the model.\n"
          ]
        }
      ]
    },
    {
      "cell_type": "code",
      "execution_count": null,
      "metadata": {
        "id": "KkYVpJS72WWB"
      },
      "outputs": [],
      "source": [
        "reloaded_model = tf.saved_model.load(saved_model_path)"
      ]
    },
    {
      "cell_type": "code",
      "source": [
        "split_model = tf.saved_model.load(split_model_path)"
      ],
      "metadata": {
        "id": "HVWN6gyGUebK"
      },
      "execution_count": null,
      "outputs": []
    },
    {
      "cell_type": "code",
      "execution_count": null,
      "metadata": {
        "id": "v5R5E-uhD4Qz",
        "colab": {
          "base_uri": "https://localhost:8080/"
        },
        "outputId": "4dd835e0-28f2-4205-8aa6-5788523acb58"
      },
      "outputs": [
        {
          "output_type": "stream",
          "name": "stderr",
          "text": [
            "WARNING:tensorflow:Using a while_loop for converting IO>AudioResample cause there is no registered converter for this op.\n"
          ]
        }
      ],
      "source": [
        "testing_wav_data = load_wav_16k_mono('./datasets/Data/audio/New_AS_171.wav')"
      ]
    },
    {
      "cell_type": "markdown",
      "metadata": {
        "id": "4BkmvvNzq49l"
      },
      "source": [
        "And for the final test: given some sound data, does your model return the correct result?"
      ]
    },
    {
      "cell_type": "code",
      "execution_count": null,
      "metadata": {
        "id": "xeXtD5HO28y-",
        "colab": {
          "base_uri": "https://localhost:8080/"
        },
        "outputId": "73e5bbd9-3a84-4cb9-add9-4070f237ea6e"
      },
      "outputs": [
        {
          "output_type": "stream",
          "name": "stdout",
          "text": [
            "tf.Tensor([  4.2232547  -3.0235822  -8.359001   -3.4508712 -10.872632 ], shape=(5,), dtype=float32)\n"
          ]
        }
      ],
      "source": [
        "reloaded_results = reloaded_model(testing_wav_data)\n",
        "\n",
        "print(reloaded_results)\n",
        "#cat_or_dog = my_classes[tf.math.argmax(reloaded_results)]\n",
        "#print(f'The main sound is: {cat_or_dog}')"
      ]
    },
    {
      "cell_type": "code",
      "source": [
        "split_results = split_model(testing_wav_data)\n",
        "\n",
        "print(split_results)"
      ],
      "metadata": {
        "colab": {
          "base_uri": "https://localhost:8080/"
        },
        "id": "j6sKEuLnEsnn",
        "outputId": "dec1016a-e5f6-4c66-94e0-6a5e84cb8f8e"
      },
      "execution_count": null,
      "outputs": [
        {
          "output_type": "stream",
          "name": "stdout",
          "text": [
            "[<tf.Tensor: shape=(), dtype=float32, numpy=4.2232547>, <tf.Tensor: shape=(), dtype=float32, numpy=-3.0235822>, <tf.Tensor: shape=(), dtype=float32, numpy=-8.359001>, <tf.Tensor: shape=(), dtype=float32, numpy=-3.4508712>, <tf.Tensor: shape=(), dtype=float32, numpy=-10.872632>]\n"
          ]
        }
      ]
    },
    {
      "cell_type": "markdown",
      "metadata": {
        "id": "ZRrOcBYTUgwn"
      },
      "source": [
        "If you want to try your new model on a serving setup, you can use the 'serving_default' signature."
      ]
    },
    {
      "cell_type": "code",
      "execution_count": null,
      "metadata": {
        "id": "ycC8zzDSUG2s",
        "colab": {
          "base_uri": "https://localhost:8080/"
        },
        "outputId": "6d1fc003-5c9e-4351-e7ca-1529889e8b25"
      },
      "outputs": [
        {
          "output_type": "stream",
          "name": "stdout",
          "text": [
            "The main sound is: AS\n"
          ]
        }
      ],
      "source": [
        "serving_results = reloaded_model.signatures['serving_default'](testing_wav_data)\n",
        "cat_or_dog = my_classes[tf.math.argmax(serving_results['classifier'])]\n",
        "print(f'The main sound is: {cat_or_dog}')\n"
      ]
    },
    {
      "cell_type": "markdown",
      "metadata": {
        "id": "da7blblCHs8c"
      },
      "source": [
        "## (Optional) Some more testing\n",
        "\n",
        "The model is ready.\n",
        "\n",
        "Let's compare it to YAMNet on the test dataset."
      ]
    },
    {
      "cell_type": "code",
      "execution_count": null,
      "metadata": {
        "id": "vDf5MASIIN1z",
        "colab": {
          "base_uri": "https://localhost:8080/",
          "height": 558
        },
        "outputId": "463bf3b8-f30d-4bef-ce27-f8bf2489a3c7"
      },
      "outputs": [
        {
          "output_type": "stream",
          "name": "stdout",
          "text": [
            "./datasets/Data/audio/New_MVP_123.wav\n"
          ]
        },
        {
          "output_type": "stream",
          "name": "stderr",
          "text": [
            "WARNING:tensorflow:Using a while_loop for converting IO>AudioResample cause there is no registered converter for this op.\n"
          ]
        },
        {
          "output_type": "stream",
          "name": "stdout",
          "text": [
            "Waveform values: [-5.0497821e-08  3.0295317e-07  1.4314182e-07 ...  1.6724471e-04\n",
            "  5.3999486e-04  7.6728535e-04]\n"
          ]
        },
        {
          "output_type": "execute_result",
          "data": {
            "text/plain": [
              "<IPython.lib.display.Audio object>"
            ],
            "text/html": [
              "\n",
              "                <audio  controls=\"controls\" >\n",
              "                    <source src=\"data:audio/wav;base64,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\" type=\"audio/wav\" />\n",
              "                    Your browser does not support the audio element.\n",
              "                </audio>\n",
              "              "
            ]
          },
          "metadata": {},
          "execution_count": 34
        },
        {
          "output_type": "display_data",
          "data": {
            "text/plain": [
              "<Figure size 640x480 with 1 Axes>"
            ],
            "image/png": "[encoded data removed]"
          },
          "metadata": {}
        }
      ],
      "source": [
        "test_pd = filtered_pd.loc[filtered_pd['fold'] == 5]\n",
        "row = test_pd.sample(1)\n",
        "filename = row['filename'].item()\n",
        "print(filename)\n",
        "waveform = load_wav_16k_mono(filename)\n",
        "print(f'Waveform values: {waveform}')\n",
        "_ = plt.plot(waveform)\n",
        "\n",
        "display.Audio(waveform, rate=16000)"
      ]
    },
    {
      "cell_type": "code",
      "execution_count": null,
      "metadata": {
        "id": "eYUzFxYJIcE1",
        "colab": {
          "base_uri": "https://localhost:8080/"
        },
        "outputId": "2b1ca931-8e12-4203-8917-c5094b57f683"
      },
      "outputs": [
        {
          "output_type": "stream",
          "name": "stdout",
          "text": [
            "[YAMNet] The main sound is: Heart sounds, heartbeat (0.9599353075027466)\n",
            "[Your model] The main sound is: MVP (0.9971734285354614)\n"
          ]
        }
      ],
      "source": [
        "# Run the model, check the output.\n",
        "scores, embeddings, spectrogram = yamnet_model(waveform)\n",
        "class_scores = tf.reduce_mean(scores, axis=0)\n",
        "top_class = tf.math.argmax(class_scores)\n",
        "inferred_class = class_names[top_class]\n",
        "top_score = class_scores[top_class]\n",
        "print(f'[YAMNet] The main sound is: {inferred_class} ({top_score})')\n",
        "\n",
        "reloaded_results = reloaded_model(waveform)\n",
        "your_top_class = tf.math.argmax(reloaded_results)\n",
        "your_inferred_class = my_classes[your_top_class]\n",
        "class_probabilities = tf.nn.softmax(reloaded_results, axis=-1)\n",
        "your_top_score = class_probabilities[your_top_class]\n",
        "print(f'[Your model] The main sound is: {your_inferred_class} ({your_top_score})')"
      ]
    },
    {
      "cell_type": "code",
      "source": [
        "import numpy as np\n",
        "from sklearn.metrics import accuracy_score, precision_score, recall_score, f1_score, classification_report\n",
        "\n",
        "# Get true labels and predicted labels from test dataset\n",
        "y_true = []\n",
        "y_pred = []\n",
        "\n",
        "for x_batch, y_batch in test_ds:\n",
        "    logits = my_model(x_batch, training=False)\n",
        "    predictions = tf.argmax(logits, axis=1)\n",
        "\n",
        "    y_true.extend(y_batch.numpy())\n",
        "    y_pred.extend(predictions.numpy())\n",
        "\n",
        "# Convert to NumPy arrays\n",
        "y_true = np.array(y_true)\n",
        "y_pred = np.array(y_pred)\n",
        "\n",
        "# Compute metrics\n",
        "accuracy = accuracy_score(y_true, y_pred)\n",
        "precision = precision_score(y_true, y_pred, average='weighted', zero_division=0)\n",
        "recall = recall_score(y_true, y_pred, average='weighted', zero_division=0)\n",
        "f1 = f1_score(y_true, y_pred, average='weighted', zero_division=0)\n",
        "\n",
        "# Print results\n",
        "print(f\"Accuracy : {accuracy:.4f}\")\n",
        "print(f\"Precision: {precision:.4f}\")\n",
        "print(f\"Recall   : {recall:.4f}\")\n",
        "print(f\"F1-score : {f1:.4f}\")\n",
        "\n",
        "# Optional: Detailed report\n",
        "print(\"\\nClassification Report:\")\n",
        "print(classification_report(y_true, y_pred, target_names=my_classes, zero_division=0))\n"
      ],
      "metadata": {
        "colab": {
          "base_uri": "https://localhost:8080/"
        },
        "id": "FnAIuL3Tn1md",
        "outputId": "a1cef071-d2ce-4fd7-9b46-5ec10516b7bd"
      },
      "execution_count": null,
      "outputs": [
        {
          "output_type": "stream",
          "name": "stdout",
          "text": [
            "Accuracy : 0.8462\n",
            "Precision: 0.8507\n",
            "Recall   : 0.8462\n",
            "F1-score : 0.8426\n",
            "\n",
            "Classification Report:\n",
            "              precision    recall  f1-score   support\n",
            "\n",
            "          AS       0.85      0.92      0.88       204\n",
            "          MR       0.82      0.87      0.84       173\n",
            "          MS       0.92      0.65      0.76       184\n",
            "         MVP       0.83      0.82      0.82       190\n",
            "           N       0.84      0.98      0.90       179\n",
            "\n",
            "    accuracy                           0.85       930\n",
            "   macro avg       0.85      0.85      0.84       930\n",
            "weighted avg       0.85      0.85      0.84       930\n",
            "\n"
          ]
        }
      ]
    }
  ],
  "metadata": {
    "accelerator": "GPU",
    "colab": {
      "provenance": []
    },
    "kernelspec": {
      "display_name": "Python 3",
      "name": "python3"
    }
  },
  "nbformat": 4,
  "nbformat_minor": 0
}